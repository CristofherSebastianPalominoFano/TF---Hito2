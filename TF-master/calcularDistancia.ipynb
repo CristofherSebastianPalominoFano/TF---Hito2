{
  "nbformat": 4,
  "nbformat_minor": 0,
  "metadata": {
    "colab": {
      "provenance": [],
      "authorship_tag": "ABX9TyOhY97lE//MpHK3Rxx4pbB6",
      "include_colab_link": true
    },
    "kernelspec": {
      "name": "python3",
      "display_name": "Python 3"
    },
    "language_info": {
      "name": "python"
    }
  },
  "cells": [
    {
      "cell_type": "markdown",
      "metadata": {
        "id": "view-in-github",
        "colab_type": "text"
      },
      "source": [
        "<a href=\"https://colab.research.google.com/github/CristofherSebastianPalominoFano/TF/blob/master/calcularDistancia.ipynb\" target=\"_parent\"><img src=\"https://colab.research.google.com/assets/colab-badge.svg\" alt=\"Open In Colab\"/></a>"
      ]
    },
    {
      "cell_type": "code",
      "execution_count": null,
      "metadata": {
        "id": "AudArgExtSK1"
      },
      "outputs": [],
      "source": [
        "import math\n",
        "\n",
        "def calcularDistancia(cepOrigen,cepDestino):\n",
        "    resX = cepDestino.coordX - cepOrigen.coordX\n",
        "    resY = cepDestino.coordY - cepOrigen.coordY\n",
        "    resX2 = resX ** 2\n",
        "    resY2 = resY ** 2\n",
        "    dist = math.sqrt(resX2 + resY2)\n",
        "    return dist"
      ]
    }
  ]
}
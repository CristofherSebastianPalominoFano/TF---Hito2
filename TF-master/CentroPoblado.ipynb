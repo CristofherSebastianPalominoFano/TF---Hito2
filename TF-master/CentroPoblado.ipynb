{
  "nbformat": 4,
  "nbformat_minor": 0,
  "metadata": {
    "colab": {
      "provenance": [],
      "authorship_tag": "ABX9TyM4Vtgdz1mer6/mQFubZ3v7",
      "include_colab_link": true
    },
    "kernelspec": {
      "name": "python3",
      "display_name": "Python 3"
    },
    "language_info": {
      "name": "python"
    }
  },
  "cells": [
    {
      "cell_type": "markdown",
      "metadata": {
        "id": "view-in-github",
        "colab_type": "text"
      },
      "source": [
        "<a href=\"https://colab.research.google.com/github/CristofherSebastianPalominoFano/TF/blob/master/CentroPoblado.ipynb\" target=\"_parent\"><img src=\"https://colab.research.google.com/assets/colab-badge.svg\" alt=\"Open In Colab\"/></a>"
      ]
    },
    {
      "cell_type": "code",
      "execution_count": null,
      "metadata": {
        "id": "AudArgExtSK1"
      },
      "outputs": [],
      "source": [
        "class CentroPoblado:\n",
        "    def __init__(self,codigo,nombre,departamento,provincia,distrito,capital,coordX, coordY):\n",
        "        self.codigo = codigo\n",
        "        self.nombre = nombre\n",
        "        self.departamento = departamento\n",
        "        self.provincia = provincia\n",
        "        self.distrito = distrito\n",
        "        self.capital = capital\n",
        "        self.coordX = coordX\n",
        "        self.coordY = coordY\n",
        "    def __str__(self):\n",
        "        return \"%s D: %s P: %s D: %s Cap: %d Cod: %s  X: %f Y: %f\" % (self.nombre, self.departamento, self.provincia, self.distrito, self.capital, self.codigo,self.coordX,self.coordY)\n",
        "       "
      ]
    }
  ]
}
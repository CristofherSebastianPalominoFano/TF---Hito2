{
  "nbformat": 4,
  "nbformat_minor": 0,
  "metadata": {
    "colab": {
      "provenance": [],
      "authorship_tag": "ABX9TyNGAFwQMrPGD6eAVg1X3uYd",
      "include_colab_link": true
    },
    "kernelspec": {
      "name": "python3",
      "display_name": "Python 3"
    },
    "language_info": {
      "name": "python"
    }
  },
  "cells": [
    {
      "cell_type": "markdown",
      "metadata": {
        "id": "view-in-github",
        "colab_type": "text"
      },
      "source": [
        "<a href=\"https://colab.research.google.com/github/CristofherSebastianPalominoFano/TF/blob/master/unionfind.ipynb\" target=\"_parent\"><img src=\"https://colab.research.google.com/assets/colab-badge.svg\" alt=\"Open In Colab\"/></a>"
      ]
    },
    {
      "cell_type": "code",
      "execution_count": null,
      "metadata": {
        "id": "AudArgExtSK1"
      },
      "outputs": [],
      "source": [
        "def find(id,i):\n",
        "    if id[i] == i:\n",
        "        return i\n",
        "    else:\n",
        "        temp = find(id,id[i])\n",
        "        id[i] = temp\n",
        "        return temp\n",
        "\n",
        "def union(id,a,b):\n",
        "    pa = find(id,a)\n",
        "    pb = find(id,b)\n",
        "    if pa != pb:\n",
        "        id[b] = pa\n",
        "\n",
        "if __name__==\"__main__\":\n",
        "    n = int(input(\"Ingrese n: \"))\n",
        "    id = [i for i in range(n)]\n",
        "    union(id,2,3)\n",
        "    print(id)\n",
        "    union(id,2,4)\n",
        "    print(id)\n",
        "    union(id,1,2)\n",
        "    print(id)\n",
        "    union(id,1,0)\n",
        "    print(id)\n"
      ]
    }
  ]
}
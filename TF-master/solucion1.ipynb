{
  "nbformat": 4,
  "nbformat_minor": 0,
  "metadata": {
    "colab": {
      "provenance": [],
      "authorship_tag": "ABX9TyON/p04KHi+cjq3c33e79Cp",
      "include_colab_link": true
    },
    "kernelspec": {
      "name": "python3",
      "display_name": "Python 3"
    },
    "language_info": {
      "name": "python"
    }
  },
  "cells": [
    {
      "cell_type": "markdown",
      "metadata": {
        "id": "view-in-github",
        "colab_type": "text"
      },
      "source": [
        "<a href=\"https://colab.research.google.com/github/CristofherSebastianPalominoFano/TF/blob/master/solucion1.ipynb\" target=\"_parent\"><img src=\"https://colab.research.google.com/assets/colab-badge.svg\" alt=\"Open In Colab\"/></a>"
      ]
    },
    {
      "cell_type": "code",
      "execution_count": null,
      "metadata": {
        "id": "AudArgExtSK1"
      },
      "outputs": [],
      "source": [
        "import heapq as hq\n",
        "from unionfind import union,find\n",
        "\n",
        "def kruskal(G,id):\n",
        "    aristas = []\n",
        "    resultado = []\n",
        "    for arista in G:\n",
        "        costo,nodo,vecino = arista\n",
        "        hq.heappush(aristas,(costo,nodo,vecino))\n",
        "\n",
        "    while len(aristas):\n",
        "        costo,u,v = hq.heappop(aristas)\n",
        "        pu = find(id,u)\n",
        "        pv = find(id,v)\n",
        "        if pu != pv:\n",
        "            resultado.append((costo,u,v))\n",
        "            union(id,pu,pv)\n",
        "    return resultado\n",
        "\n",
        "if __name__ == \"__main__\":\n",
        "    import matplotlib.pyplot as plt\n",
        "    from Leer import leerDataSet,leerArchivo\n",
        "    from generarGrafo import generarGrafo\n",
        "    centrosPoblados = leerDataSet(\"dataset.csv\",1)\n",
        "\n",
        "    tipoMuestra = {\n",
        "        'RESTANTES':0,\n",
        "        'DEPARTAMENTALES':1,\n",
        "        'PROVINCIALES':2,\n",
        "        'DISTRITALES':3\n",
        "    }\n",
        "\n",
        "    muestra = [] #lista centros poblados\n",
        "    id = {}\n",
        "    for cep in centrosPoblados:\n",
        "        if cep.capital == tipoMuestra['DEPARTAMENTALES']: #es capital departamental\n",
        "            id[cep.codigo] = cep.codigo\n",
        "            muestra.append(cep)\n",
        "    G = generarGrafo(muestra)\n",
        "    arbolExpMin = kruskal(G,id)\n",
        "    print(arbolExpMin)\n",
        "    #Config mapa\n",
        "    plt.figure(figsize=(15,5))\n",
        "    plt.title(\"Mapa\")\n",
        "    plt.xlabel(\"Coord X\")\n",
        "    plt.ylabel(\"Coord Y\")\n",
        "    #Pintando mapa\n",
        "    x = []\n",
        "    y = []\n",
        "    for cep in centrosPoblados:\n",
        "        x.append(cep.coordX)\n",
        "        y.append(cep.coordY)\n",
        "    plt.plot(x,y,'ro')\n",
        "    def buscarCentroPoblado(codigo):\n",
        "        for cep in centrosPoblados:\n",
        "            if cep.codigo == codigo:\n",
        "                return cep\n",
        "\n",
        "\n",
        "    def pintarAristas(aristas,color):\n",
        "        for arista in aristas:\n",
        "            _,origen,destino = arista\n",
        "            o = buscarCentroPoblado(origen)\n",
        "            d = buscarCentroPoblado(destino)\n",
        "            x = [o.coordX,d.coordX]\n",
        "            y = [o.coordY,d.coordY]\n",
        "            plt.plot(x,y,color=color,marker=\"8\",markerEdgeColor=\"black\")\n",
        "    \n",
        "    #Pintar grafo\n",
        "    pintarAristas(G,\"blue\")\n",
        "    #Pintar arbol de expansion minima\n",
        "    pintarAristas(arbolExpMin,\"white\")\n",
        "    plt.show()"
      ]
    }
  ]
}
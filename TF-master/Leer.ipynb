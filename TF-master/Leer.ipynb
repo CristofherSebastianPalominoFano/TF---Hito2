{
  "nbformat": 4,
  "nbformat_minor": 0,
  "metadata": {
    "colab": {
      "provenance": [],
      "authorship_tag": "ABX9TyOWbDWZpXLrptcztGwiqAeD",
      "include_colab_link": true
    },
    "kernelspec": {
      "name": "python3",
      "display_name": "Python 3"
    },
    "language_info": {
      "name": "python"
    }
  },
  "cells": [
    {
      "cell_type": "markdown",
      "metadata": {
        "id": "view-in-github",
        "colab_type": "text"
      },
      "source": [
        "<a href=\"https://colab.research.google.com/github/CristofherSebastianPalominoFano/TF/blob/master/Leer.ipynb\" target=\"_parent\"><img src=\"https://colab.research.google.com/assets/colab-badge.svg\" alt=\"Open In Colab\"/></a>"
      ]
    },
    {
      "cell_type": "code",
      "execution_count": null,
      "metadata": {
        "id": "AudArgExtSK1"
      },
      "outputs": [],
      "source": [
        "from models.CentroPoblado import CentroPoblado\n",
        "\n",
        "\n",
        "def leerArchivo(nombreArchivo):\n",
        "    datos = []\n",
        "    try:\n",
        "        archivo = open(nombreArchivo)\n",
        "        lineas = archivo.readlines()\n",
        "        for linea in lineas:\n",
        "            datos.append(linea.replace('\\n',''))\n",
        "    except FileNotFoundError:\n",
        "        print(\"Archivo no encontrado\")\n",
        "    finally:\n",
        "        archivo.close()\n",
        "        return datos\n",
        "\n",
        "def leerDataSet(nombreArchivo,inicio,fin = 0):\n",
        "    centrosPoblados = []\n",
        "    try:\n",
        "        archivo = open(nombreArchivo)\n",
        "        lineas = archivo.readlines()\n",
        "        if fin != 0:\n",
        "            lineas = lineas[inicio:(fin+1)]\n",
        "        else:\n",
        "            lineas = lineas[inicio:]\n",
        "        \n",
        "        registros = []\n",
        "        i = 0\n",
        "        for linea in lineas:\n",
        "            aux = linea.replace('\\n','')\n",
        "            if len(aux.split(',')) == 18: #valida si el registro tiene 18 columnas\n",
        "                registros.append(aux)\n",
        "            i += 1\n",
        "\n",
        "        print(len(registros))\n",
        "        for registro in registros:\n",
        "            datos = registro.split(',')\n",
        "            departamento,provincia,distrito,codigo,nombre = datos[1:6]\n",
        "            capital = int(datos[7])\n",
        "            coordX,coordY = datos[15:17]\n",
        "            coordX = float(coordX)\n",
        "            coordY = float(coordY)\n",
        "            centrosPoblados.append(CentroPoblado(codigo,nombre,departamento,provincia,distrito,capital,coordX,coordY))\n",
        "    except FileNotFoundError:\n",
        "        print(\"Archivo no encontrado.\")\n",
        "    finally:\n",
        "        archivo.close()\n",
        "        return centrosPoblados\n",
        "\n",
        "\n",
        "if __name__ == \"__main__\":\n",
        "    centrosPoblados = leerDataSet(\"dataset.csv\",1)\n",
        "    i = 0\n",
        "    for cep in centrosPoblados:\n",
        "        if cep.capital == 1: #imprime capitales departamentales\n",
        "            print(cep)\n",
        "            i+=1\n",
        "    print(\"Total capitales departamentales: \" + str(i))"
      ]
    }
  ]
}
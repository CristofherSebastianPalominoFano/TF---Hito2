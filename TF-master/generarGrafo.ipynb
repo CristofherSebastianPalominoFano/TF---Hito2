{
  "nbformat": 4,
  "nbformat_minor": 0,
  "metadata": {
    "colab": {
      "provenance": [],
      "authorship_tag": "ABX9TyOhQXJ0WbN+pm+PB8OmS+cu",
      "include_colab_link": true
    },
    "kernelspec": {
      "name": "python3",
      "display_name": "Python 3"
    },
    "language_info": {
      "name": "python"
    }
  },
  "cells": [
    {
      "cell_type": "markdown",
      "metadata": {
        "id": "view-in-github",
        "colab_type": "text"
      },
      "source": [
        "<a href=\"https://colab.research.google.com/github/CristofherSebastianPalominoFano/TF/blob/master/generarGrafo.ipynb\" target=\"_parent\"><img src=\"https://colab.research.google.com/assets/colab-badge.svg\" alt=\"Open In Colab\"/></a>"
      ]
    },
    {
      "cell_type": "code",
      "execution_count": null,
      "metadata": {
        "id": "AudArgExtSK1"
      },
      "outputs": [],
      "source": [
        "\"\"\"\n",
        "    Esta función recibe como argumento una lista de objetos de clase models.CentroPoblado\n",
        "    y retorna una lista con tuplas de tres elementos (distancia,verticeOrigen,verticeDestino)\n",
        "    las cuales representan las aristas de un grafo.\n",
        "\"\"\"\n",
        "import random\n",
        "from calcularDistancia import calcularDistancia\n",
        "\n",
        "def generarGrafo(centrosPoblados):\n",
        "    grafo = []\n",
        "    \n",
        "    for cep in centrosPoblados:\n",
        "        copia = centrosPoblados[:] # genera una copia de todos los centros poblados\n",
        "        copia.remove(cep) #removemos el cep seleccionado para no generar un camino al mismo punto\n",
        "        destinosPorCep = random.randint(3,5) # seleccionamos entre 3 y 5 destinos por cada centro poblado\n",
        "        for _ in range(destinosPorCep):\n",
        "            destino = random.choice(copia) #seleccionamos un destino al azar\n",
        "            copia.remove(destino) #removemos el destino para que no se repita\n",
        "            #Generamos una nueva arista\n",
        "            distancia = calcularDistancia(cep,destino)\n",
        "            arista = (distancia,cep.codigo,destino.codigo)\n",
        "            grafo.append(arista)\n",
        "    return grafo\n",
        "\n",
        "if __name__ == \"__main__\":\n",
        "    from Leer import leerDataSet\n",
        "    centrosPoblados = leerDataSet(\"dataset.csv\",1,50)\n",
        "    grafo = generarGrafo(centrosPoblados)\n",
        "    print(grafo)"
      ]
    }
  ]
}